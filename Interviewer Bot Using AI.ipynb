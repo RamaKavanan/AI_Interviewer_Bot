{
 "cells": [
  {
   "cell_type": "code",
   "execution_count": 1,
   "id": "a813831d",
   "metadata": {},
   "outputs": [],
   "source": [
    "import os\n",
    "from gtts import gTTS\n",
    "import openai\n",
    "import requests\n",
    "import json\n",
    "from time import sleep\n",
    "import vlc"
   ]
  },
  {
   "cell_type": "code",
   "execution_count": 2,
   "id": "95f27153",
   "metadata": {},
   "outputs": [],
   "source": [
    "openai.api_key = ''"
   ]
  },
  {
   "cell_type": "code",
   "execution_count": 3,
   "id": "0839ad52",
   "metadata": {},
   "outputs": [],
   "source": [
    "questions = []"
   ]
  },
  {
   "cell_type": "code",
   "execution_count": 4,
   "id": "14d6b6b9",
   "metadata": {},
   "outputs": [],
   "source": [
    "question_obj = {}\n",
    "question_obj['q_txt'] = 'What are your strengths and weaknesses?'\n",
    "question_obj['id'] = 'question_1'\n",
    "question_obj['lang'] = 'en'\n",
    "question_obj['location'] = ''\n",
    "question_obj['q_audio_f_name'] = 'q_'+str(question_obj['id'])+'.mp4'\n",
    "question_obj['ans_audio_f_name'] = 'a_'+str(question_obj['id'])+'.mp4'\n",
    "question_obj['ans_txt']=''\n",
    "questions.append(question_obj)\n",
    "question_obj = {}\n",
    "question_obj['q_txt'] = 'What is your name?'\n",
    "question_obj['id'] = 'question_2'\n",
    "question_obj['lang'] = 'en'\n",
    "question_obj['location'] = ''\n",
    "question_obj['q_audio_f_name'] = 'q_'+str(question_obj['id'])+'.mp4'\n",
    "question_obj['ans_audio_f_name'] = 'a_question_1.mp4'\n",
    "question_obj['ans_txt']=''\n",
    "questions.append(question_obj)"
   ]
  },
  {
   "cell_type": "code",
   "execution_count": 5,
   "id": "b9662e24",
   "metadata": {},
   "outputs": [],
   "source": [
    "def convert_text_to_audio(question):\n",
    "    myobj = gTTS(text=question['q_txt'], lang=question['lang'], slow=False)\n",
    "    # Saving the converted audio in a mp3 file named\n",
    "    myobj.save(question['location'] + question['q_audio_f_name'])"
   ]
  },
  {
   "cell_type": "code",
   "execution_count": 6,
   "id": "9f3b1df8",
   "metadata": {},
   "outputs": [],
   "source": [
    "def convert_audio_to_text(question):\n",
    "    #Loading answer from file\n",
    "    file = open(question['location'] + question['ans_audio_f_name'], \"rb\")\n",
    "    transcription = openai.Audio.transcribe(\"whisper-1\", file)\n",
    "    file.close()\n",
    "    return transcription['text']"
   ]
  },
  {
   "cell_type": "code",
   "execution_count": 7,
   "id": "08ed3358",
   "metadata": {},
   "outputs": [],
   "source": [
    "prefix = ' extract context and evaluate and rate 0 to 10 the answer '\n",
    "interfix = ' for the question '"
   ]
  },
  {
   "cell_type": "code",
   "execution_count": 8,
   "id": "0787e976",
   "metadata": {},
   "outputs": [],
   "source": [
    "def evaluate(prompt):\n",
    "    response = openai.Completion.create(\n",
    "      model=\"text-davinci-003\",\n",
    "      prompt=prompt,\n",
    "      temperature=0.7,\n",
    "      max_tokens=256,\n",
    "      top_p=1,\n",
    "      frequency_penalty=0,\n",
    "      presence_penalty=0\n",
    "    )\n",
    "    return response['choices'][0].text.strip()"
   ]
  },
  {
   "cell_type": "code",
   "execution_count": 9,
   "id": "4f3725c3",
   "metadata": {},
   "outputs": [],
   "source": [
    "def play_audio(path, player='os'):\n",
    "#     tune = mp.newMedia(path)\n",
    "#     mp.currentPlaylist.appendItem(tune)\n",
    "#     mp.controls.play()\n",
    "#     sleep(1)\n",
    "#     mp.controls.playItem(tune)\n",
    "    \n",
    "    if player == 'vlc':\n",
    "        p = vlc.MediaPlayer(path)\n",
    "        p.audio_set_volume(100)\n",
    "        p.play()\n",
    "        sleep(1.5)\n",
    "        duration = p.get_length() / 1000\n",
    "        sleep(duration)\n",
    "        \n",
    "    else:\n",
    "        os.system(path)\n",
    "        sleep(3)\n"
   ]
  },
  {
   "cell_type": "code",
   "execution_count": 10,
   "id": "d02f662e",
   "metadata": {},
   "outputs": [
    {
     "name": "stdout",
     "output_type": "stream",
     "text": [
      "==========================================================\n",
      "Question :  What are your strengths and weaknesses?\n",
      "\t Task - Converting Text to Audio using Google TTS\n",
      "\t Playing converted audio file \n",
      "Loading Answer audio file from system\n",
      "\t Task - Converting ans audio to text using chatgpt\n",
      "\t ChatGPT converted ans text :  I have several strengths namely I am patient, committed, honest and self-motivated. I am the biggest dreamer I have ever come across. I forgive easily and hate to keep grudges in my heart. My greatest weakness is that I don't like getting interrupted when I am seriously into something.\n",
      "\n",
      "\n",
      "----------------------------------------------------------\n",
      "                  ChatGPT Evaluation                      \n",
      "----------------------------------------------------------\n",
      "Evaluation Scores:\n",
      "Context: The person is answering the question \"What are your strengths and weaknesses?\"\n",
      "Answer: 8/10. The answer is comprehensive and provides multiple strengths and weaknesses. The person is honest about their strengths and weaknesses and provides a clear statement about their strengths and weaknesses.\n",
      "==========================================================\n",
      "Question :  What is your name?\n",
      "\t Task - Converting Text to Audio using Google TTS\n",
      "\t Playing converted audio file \n",
      "Loading Answer audio file from system\n",
      "\t Task - Converting ans audio to text using chatgpt\n",
      "\t ChatGPT converted ans text :  I have several strengths namely I am patient, committed, honest and self-motivated. I am the biggest dreamer I have ever come across. I forgive easily and hate to keep grudges in my heart. My greatest weakness is that I don't like getting interrupted when I am seriously into something.\n",
      "\n",
      "\n",
      "----------------------------------------------------------\n",
      "                  ChatGPT Evaluation                      \n",
      "----------------------------------------------------------\n",
      "Evaluation Scores:\n",
      "This answer does not provide any context to the question \"What is your name?\" Therefore, it is not possible to rate the answer on a scale of 0 to 10.\n"
     ]
    }
   ],
   "source": [
    "for question in questions:\n",
    "    print('==========================================================')\n",
    "    print('Question : ', question['q_txt'])\n",
    "    print('\\t Task - Converting Text to Audio using Google TTS')\n",
    "    convert_text_to_audio(question)\n",
    "    print('\\t Playing converted audio file ')\n",
    "    play_audio(question['q_audio_f_name'])\n",
    "    sleep(1)\n",
    "    print('Loading Answer audio file from system')\n",
    "    play_audio(question['ans_audio_f_name'], player='vlc')\n",
    "    print('\\t Task - Converting ans audio to text using chatgpt')\n",
    "    transcription = convert_audio_to_text(question)\n",
    "    print('\\t ChatGPT converted ans text : ', transcription)\n",
    "    print('\\n')\n",
    "    question['ans_txt'] = transcription\n",
    "    prompt = prefix +'\"' +transcription +'\"'+ interfix +'\"'+ question['q_txt'] +'\"'\n",
    "    print('----------------------------------------------------------')\n",
    "    print('                  ChatGPT Evaluation                      ')\n",
    "    print('----------------------------------------------------------')\n",
    "    print('Evaluation Scores:')\n",
    "    eval_str = evaluate(prompt)\n",
    "    for resp_str in eval_str.split('\\n\\n'):\n",
    "        print(f\"{resp_str}\")\n"
   ]
  },
  {
   "cell_type": "code",
   "execution_count": null,
   "id": "a0867ba9",
   "metadata": {},
   "outputs": [],
   "source": []
  },
  {
   "cell_type": "code",
   "execution_count": null,
   "id": "72acbb58",
   "metadata": {},
   "outputs": [],
   "source": []
  },
  {
   "cell_type": "code",
   "execution_count": null,
   "id": "e42c062d",
   "metadata": {},
   "outputs": [],
   "source": []
  }
 ],
 "metadata": {
  "kernelspec": {
   "display_name": "Python 3 (ipykernel)",
   "language": "python",
   "name": "python3"
  },
  "language_info": {
   "codemirror_mode": {
    "name": "ipython",
    "version": 3
   },
   "file_extension": ".py",
   "mimetype": "text/x-python",
   "name": "python",
   "nbconvert_exporter": "python",
   "pygments_lexer": "ipython3",
   "version": "3.8.10"
  }
 },
 "nbformat": 4,
 "nbformat_minor": 5
}
